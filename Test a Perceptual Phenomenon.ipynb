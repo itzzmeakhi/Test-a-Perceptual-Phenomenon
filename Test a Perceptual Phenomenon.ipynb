{
 "cells": [
  {
   "cell_type": "code",
   "execution_count": 24,
   "metadata": {},
   "outputs": [],
   "source": [
    "# Import all the necessary libraries to perform analysis\n",
    "\n",
    "import numpy as np\n",
    "import pandas as pd\n",
    "import matplotlib.pyplot as plt\n",
    "%matplotlib inline\n",
    "from math import *"
   ]
  },
  {
   "cell_type": "code",
   "execution_count": 4,
   "metadata": {},
   "outputs": [
    {
     "data": {
      "text/html": [
       "<div>\n",
       "<style scoped>\n",
       "    .dataframe tbody tr th:only-of-type {\n",
       "        vertical-align: middle;\n",
       "    }\n",
       "\n",
       "    .dataframe tbody tr th {\n",
       "        vertical-align: top;\n",
       "    }\n",
       "\n",
       "    .dataframe thead th {\n",
       "        text-align: right;\n",
       "    }\n",
       "</style>\n",
       "<table border=\"1\" class=\"dataframe\">\n",
       "  <thead>\n",
       "    <tr style=\"text-align: right;\">\n",
       "      <th></th>\n",
       "      <th>Congruent</th>\n",
       "      <th>Incongruent</th>\n",
       "    </tr>\n",
       "  </thead>\n",
       "  <tbody>\n",
       "    <tr>\n",
       "      <th>0</th>\n",
       "      <td>12.079</td>\n",
       "      <td>19.278</td>\n",
       "    </tr>\n",
       "    <tr>\n",
       "      <th>1</th>\n",
       "      <td>16.791</td>\n",
       "      <td>18.741</td>\n",
       "    </tr>\n",
       "    <tr>\n",
       "      <th>2</th>\n",
       "      <td>9.564</td>\n",
       "      <td>21.214</td>\n",
       "    </tr>\n",
       "    <tr>\n",
       "      <th>3</th>\n",
       "      <td>8.630</td>\n",
       "      <td>15.687</td>\n",
       "    </tr>\n",
       "    <tr>\n",
       "      <th>4</th>\n",
       "      <td>14.669</td>\n",
       "      <td>22.803</td>\n",
       "    </tr>\n",
       "  </tbody>\n",
       "</table>\n",
       "</div>"
      ],
      "text/plain": [
       "   Congruent  Incongruent\n",
       "0     12.079       19.278\n",
       "1     16.791       18.741\n",
       "2      9.564       21.214\n",
       "3      8.630       15.687\n",
       "4     14.669       22.803"
      ]
     },
     "execution_count": 4,
     "metadata": {},
     "output_type": "execute_result"
    }
   ],
   "source": [
    "# Loading the stroop dataset \n",
    "\n",
    "df_stroop = pd.read_csv('stroopdata.csv')\n",
    "\n",
    "# Going through the sample of data from the dataset\n",
    "\n",
    "df_stroop.head()"
   ]
  },
  {
   "cell_type": "markdown",
   "metadata": {},
   "source": [
    "# 1. Identify variables in the experiment?"
   ]
  },
  {
   "cell_type": "markdown",
   "metadata": {},
   "source": [
    "INDEPENDANT - Words condition whether they are congruent or incongruent\n",
    "\n",
    "DEPENDANT - Response time"
   ]
  },
  {
   "cell_type": "markdown",
   "metadata": {},
   "source": [
    "# 2. What is an appropriate set of hypotheses for this task? What kind of statistical test do you expect to perform? Justify your choices."
   ]
  },
  {
   "cell_type": "markdown",
   "metadata": {},
   "source": [
    "Ho - Null Hypothesis: ( μinc - μc = 0 ) No significant difference in the population average response time in \n",
    "\n",
    "viewing both type of words. i.e., incongruent - (inc) and congruent - (c) \n",
    "\n",
    "H1 - Alternative Hypothesis: ( μinc - μc ≠ 0 ) There is a significant difference in the population average response time \n",
    "\n",
    "in viewing both type of words."
   ]
  },
  {
   "cell_type": "markdown",
   "metadata": {},
   "source": [
    "# 3. Report some descriptive statistics regarding this dataset. Include at least one measure of central tendency and at least one measure of variability."
   ]
  },
  {
   "cell_type": "code",
   "execution_count": 8,
   "metadata": {},
   "outputs": [],
   "source": [
    "# Data frames that contains only one type of variable data\n",
    "\n",
    "inc = df_stroop['Incongruent']\n",
    "\n",
    "c = df_stroop['Congruent']"
   ]
  },
  {
   "cell_type": "code",
   "execution_count": 11,
   "metadata": {},
   "outputs": [
    {
     "name": "stdout",
     "output_type": "stream",
     "text": [
      "22.01591666666667\n",
      "14.051125000000004\n"
     ]
    }
   ],
   "source": [
    "# Calculating the mean of response time of both type of word data\n",
    "\n",
    "inc_mean = inc.mean()\n",
    "\n",
    "print(inc_mean)\n",
    "\n",
    "c_mean = c.mean()\n",
    "\n",
    "print(c_mean)"
   ]
  },
  {
   "cell_type": "code",
   "execution_count": 13,
   "metadata": {},
   "outputs": [
    {
     "name": "stdout",
     "output_type": "stream",
     "text": [
      "4.797057122469138\n",
      "3.559357957645195\n"
     ]
    }
   ],
   "source": [
    "# Calculating the standard deviations of both type of word data\n",
    "\n",
    "inc_std = inc.std()\n",
    "\n",
    "print(inc_std)\n",
    "\n",
    "c_std = c.std()\n",
    "\n",
    "print(c_std)"
   ]
  },
  {
   "cell_type": "markdown",
   "metadata": {},
   "source": [
    "# 4. Provide one or two visualizations that show the distribution of the sample data. Write one or two sentences noting what you observe about the plot or plots.\n"
   ]
  },
  {
   "cell_type": "code",
   "execution_count": 20,
   "metadata": {},
   "outputs": [
    {
     "data": {
      "image/png": "[encoded data removed]",
      "text/plain": [
       "<Figure size 432x288 with 1 Axes>"
      ]
     },
     "metadata": {},
     "output_type": "display_data"
    }
   ],
   "source": [
    "\n",
    "x = df_stroop.index + 1\n",
    "\n",
    "y = df_stroop['Congruent']\n",
    "\n",
    "fig = plt.figure()\n",
    "\n",
    "fig.suptitle('Congruent Words ', fontsize=15, fontweight='bold')\n",
    "\n",
    "ax = fig.add_subplot(111)\n",
    "\n",
    "fig.subplots_adjust(top=0.85)\n",
    "\n",
    "ax.set_title('Sample Response Time Scatterplot')\n",
    "\n",
    "ax.set_xlabel('Index')\n",
    "\n",
    "ax.set_ylabel('Completion Time (seconds)')\n",
    "\n",
    "plt.xticks(np.arange(min(x), max(x)+1, 1.0))\n",
    "\n",
    "plt.yticks(np.arange(0, 35, 2))\n",
    "\n",
    "plt.scatter(x, y, alpha=0.5)\n",
    "\n",
    "plt.ylim([0,35])\n",
    "\n",
    "plt.xlim([0,24])\n",
    "\n",
    "plt.show()"
   ]
  },
  {
   "cell_type": "code",
   "execution_count": 21,
   "metadata": {},
   "outputs": [
    {
     "data": {
      "image/png": "[encoded data removed]",
      "text/plain": [
       "<Figure size 432x288 with 1 Axes>"
      ]
     },
     "metadata": {},
     "output_type": "display_data"
    }
   ],
   "source": [
    "N = len(df_stroop)\n",
    "\n",
    "x = df_stroop.index + 1\n",
    "\n",
    "y = df_stroop['Incongruent']\n",
    "\n",
    "fig = plt.figure()\n",
    "\n",
    "fig.suptitle('In Congruent Words ', fontsize=15, fontweight='bold')\n",
    "\n",
    "ax = fig.add_subplot(111)\n",
    "\n",
    "fig.subplots_adjust(top=0.85)\n",
    "\n",
    "ax.set_title('Sample Response Time Scatterplot')\n",
    "\n",
    "ax.set_xlabel('Index')\n",
    "\n",
    "ax.set_ylabel('Completion Time (seconds)')\n",
    "\n",
    "plt.xticks(np.arange(min(x), max(x)+1, 1.0))\n",
    "\n",
    "plt.yticks(np.arange(0, 35, 2))\n",
    "\n",
    "plt.scatter(x, y, alpha=0.5)\n",
    "\n",
    "plt.ylim([0,35])\n",
    "\n",
    "plt.xlim([0,24])\n",
    "\n",
    "plt.show()"
   ]
  },
  {
   "cell_type": "markdown",
   "metadata": {},
   "source": [
    "From the above visualisations, the distribution of response rate of Congruent words lies in between 8 and 23. And the \n",
    "\n",
    "distribution of response rate of In congruent words lies in betwwen 16 to 26 in which it has one outlier at 34. From \n",
    "\n",
    "above, we can definitely state that the average response time of In congruent words is higher than the Congruent \n",
    "\n",
    "words."
   ]
  },
  {
   "cell_type": "markdown",
   "metadata": {},
   "source": [
    "# 5. Now, perform the statistical test and report your results. What is your confidence level and your critical statistic value? Do you reject the null hypothesis or fail to reject it? Come to a conclusion in terms of the experiment task. Did the results match up with your expectations?¶"
   ]
  },
  {
   "cell_type": "markdown",
   "metadata": {},
   "source": [
    "\n",
    "Confidence Level = 90%\n",
    "\n",
    "t_critical value (2-sided test) -> from t-table\n",
    "\n",
    "t_critical = +- 1.711"
   ]
  },
  {
   "cell_type": "code",
   "execution_count": 22,
   "metadata": {},
   "outputs": [
    {
     "name": "stdout",
     "output_type": "stream",
     "text": [
      "24\n"
     ]
    }
   ],
   "source": [
    "# Number of records in the sample\n",
    "\n",
    "number = len(df_stroop)\n",
    "\n",
    "print(number)"
   ]
  },
  {
   "cell_type": "code",
   "execution_count": 23,
   "metadata": {},
   "outputs": [
    {
     "name": "stdout",
     "output_type": "stream",
     "text": [
      "7.964791666666665\n"
     ]
    }
   ],
   "source": [
    "# Point Estimate of μinc - μc -> PE (in seconds)\n",
    "\n",
    "PE = inc_mean - c_mean\n",
    "\n",
    "print(PE)"
   ]
  },
  {
   "cell_type": "code",
   "execution_count": 26,
   "metadata": {},
   "outputs": [
    {
     "name": "stdout",
     "output_type": "stream",
     "text": [
      "4.864826910359056\n"
     ]
    }
   ],
   "source": [
    "# s - Sample Standard Deviation of differences\n",
    "\n",
    "# 1. diff = Sample Difference\n",
    "\n",
    "df_stroop['diff'] = df_stroop['Incongruent'] - df_stroop['Congruent']\n",
    "\n",
    "# 2. D_F_M = Difference from the Mean\n",
    "\n",
    "# S_Q_D = Squared Differences from the Mean\n",
    "\n",
    "D_F_M = df_stroop['diff'] - df_stroop['diff'].mean()\n",
    "\n",
    "df_stroop['S_Q_D'] = D_F_M*D_F_M\n",
    "\n",
    "# 3. S_S_D = Sum of Squared Differences\n",
    "\n",
    "S_S_D = df_stroop['S_Q_D'].sum()\n",
    "\n",
    "# 4. V = Variance = S_S_D/(number-1)\n",
    "\n",
    "V = S_S_D/(number-1)\n",
    "\n",
    "# 5. S = sqrt(V)\n",
    "\n",
    "S = sqrt(V)\n",
    "\n",
    "print(S)"
   ]
  },
  {
   "cell_type": "code",
   "execution_count": 27,
   "metadata": {},
   "outputs": [
    {
     "name": "stdout",
     "output_type": "stream",
     "text": [
      "8.020706944109955\n"
     ]
    }
   ],
   "source": [
    "# t-statistic\n",
    "\n",
    "# T = PE/(S/√number)\n",
    "\n",
    "# PE = (μinc - μc)\n",
    "\n",
    "T = PE/(S/(sqrt(number)))\n",
    "\n",
    "print(T)"
   ]
  },
  {
   "cell_type": "markdown",
   "metadata": {},
   "source": [
    "t-statistic > t-critical\n",
    "\n",
    "8.0207 > 1.711"
   ]
  },
  {
   "cell_type": "markdown",
   "metadata": {},
   "source": [
    "# Conclusion:\n",
    "\n",
    "We reject the Null Hypothesis which states that there is no significant differences between the population average \n",
    "\n",
    "completion time for the two different conditions (Congruent & Incongruent). In theory, if we were able to calculate\n",
    "\n",
    "the average difference of every single person person who took this pair of tests (the population) we expect there \n",
    "\n",
    "would be a significantly slower or significantly faster time in either the the incongruent or congruent condition. \n"
   ]
  },
  {
   "cell_type": "markdown",
   "metadata": {},
   "source": [
    "# References\n",
    "\n",
    "1. https://s3.amazonaws.com/udacity-hosted-downloads/t-table.jpg\n",
    "\n",
    "2. https://en.wikipedia.org/wiki/Stroop_effect\n",
    "\n",
    "3. http://www.statisticshowto.com/when-to-use-a-t-score-vs-z-score/"
   ]
  }
 ],
 "metadata": {
  "kernelspec": {
   "display_name": "Python 3",
   "language": "python",
   "name": "python3"
  },
  "language_info": {
   "codemirror_mode": {
    "name": "ipython",
    "version": 3
   },
   "file_extension": ".py",
   "mimetype": "text/x-python",
   "name": "python",
   "nbconvert_exporter": "python",
   "pygments_lexer": "ipython3",
   "version": "3.6.5"
  }
 },
 "nbformat": 4,
 "nbformat_minor": 2
}
